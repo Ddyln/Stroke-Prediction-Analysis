{
 "cells": [
  {
   "cell_type": "markdown",
   "metadata": {},
   "source": [
    "## ĐỒ ÁN CUỐI KỲ \n",
    "\n",
    "## Lập trình cho Khoa học dữ liệu - CQ2022/21\n",
    "\n",
    "Nhóm thực hiện\n",
    "<table>\n",
    "    <tr>\n",
    "        <th style=\"text-align: center;\">Họ và tên</th>\n",
    "        <th style=\"text-align: center;\">MSSV</th>\n",
    "    </tr>\n",
    "        <td>Phan Bá Đức</td>\n",
    "        <td>22120071</td>\n",
    "    <tr>\n",
    "    </tr>\n",
    "        <td>Đặng Duy Lân</td>\n",
    "        <td>22120182</td>\n",
    "    <tr>\n",
    "    </tr>\n",
    "        <td>Nguyễn Nhật Long</td>\n",
    "        <td>22120194</td>\n",
    "    <tr>\n",
    "</table>\n",
    "\n",
    "**GVHD: ThS. Phạm Trọng Nghĩa**\n",
    "\n",
    "---"
   ]
  },
  {
   "cell_type": "markdown",
   "metadata": {},
   "source": [
    "# Nguồn dữ liệu\n",
    "\n",
    "Dữ liệu mà tụi em sử dụng được lấy từ [Stroke Prediction Dataset](https://www.kaggle.com/datasets/fedesoriano/stroke-prediction-dataset) ở trên Kaggle. \n",
    "\n",
    "Theo Tổ chức Y tế Thế giới (WHO), đột quỵ luôn nằm trong top các nguyên nhân gây tử vong nhiều nhất trên toàn thế giới ([nguồn](https://www.who.int/news-room/fact-sheets/detail/the-top-10-causes-of-death)). Dataset này được tác giả sử dụng để dự đoán xem một bệnh nhân liệu có bị đột quỵ hay không dựa trên các thông tin như tuổi, giới tính, các loại bệnh, tình trạng hút thuốc,...\n",
    "\n",
    "Đối với dataset này, tác giả đã không cung cấp nguồn của dữ liệu cũng như cách mà tác giả thu thập các dữ liệu này.\n",
    "\n",
    "Ngoài ra, tác giả cũng đã cấp phép cho phép sử dụng dataset này vào mục đích giáo dục.\n",
    "\n",
    "<center>\n",
    "<image src=img/src.png>\n",
    "</center>"
   ]
  },
  {
   "cell_type": "markdown",
   "metadata": {},
   "source": [
    "# Khám phá và tiền xử lý dữ liệu"
   ]
  },
  {
   "cell_type": "markdown",
   "metadata": {},
   "source": [
    "## Import các thư viện cần thiết"
   ]
  },
  {
   "cell_type": "code",
   "execution_count": null,
   "metadata": {},
   "outputs": [],
   "source": [
    "import numpy as np\n",
    "import pandas as pd\n",
    "import matplotlib.pyplot as plt\n",
    "import seaborn as sns"
   ]
  },
  {
   "cell_type": "markdown",
   "metadata": {},
   "source": [
    "# Các câu hỏi có thể trả lời từ dataset\n",
    "\n",
    "## Câu 1:\n",
    "\n",
    "## Câu 2:\n",
    "\n",
    "## Câu 3:"
   ]
  },
  {
   "cell_type": "markdown",
   "metadata": {},
   "source": [
    "# Tìm câu trả lời cho các câu hỏi\n",
    "\n",
    "## Câu 1:\n",
    "\n",
    "## Câu 2:\n",
    "\n",
    "## Câu 3:"
   ]
  },
  {
   "cell_type": "markdown",
   "metadata": {},
   "source": [
    "# Tổng kết"
   ]
  },
  {
   "cell_type": "markdown",
   "metadata": {},
   "source": [
    "# Tài liệu tham khảo"
   ]
  }
 ],
 "metadata": {
  "kernelspec": {
   "display_name": "min_ds-env2",
   "language": "python",
   "name": "python3"
  },
  "language_info": {
   "codemirror_mode": {
    "name": "ipython",
    "version": 3
   },
   "file_extension": ".py",
   "mimetype": "text/x-python",
   "name": "python",
   "nbconvert_exporter": "python",
   "pygments_lexer": "ipython3",
   "version": "3.10.15"
  }
 },
 "nbformat": 4,
 "nbformat_minor": 2
}
